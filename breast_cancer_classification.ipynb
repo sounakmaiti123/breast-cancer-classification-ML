# Breast Cancer Classification using Logistic Regression

# ================================
# 1. Import Libraries
# ================================
import numpy as np
import pandas as pd
import seaborn as sns
import matplotlib.pyplot as plt
import sklearn.datasets
from sklearn.model_selection import train_test_split
from sklearn.linear_model import LogisticRegression
from sklearn.metrics import accuracy_score, roc_curve, auc, confusion_matrix, ConfusionMatrixDisplay
from sklearn.decomposition import PCA

# ================================
# 2. Data Collection and Preprocessing
# ================================
# Load dataset
breast_cancer_dataset = sklearn.datasets.load_breast_cancer()

# Create DataFrame
data_frame = pd.DataFrame(breast_cancer_dataset.data, columns=breast_cancer_dataset.feature_names)

# Add target column
data_frame['label'] = breast_cancer_dataset.target

# Display basic info
print(data_frame.shape)
print(data_frame.info())
print(data_frame.isnull().sum())

# ================================
# 3. Exploratory Data Analysis
# ================================
# Correlation heatmap
plt.figure(figsize=(16, 12))
corr = data_frame.corr()
mask = np.triu(np.ones_like(corr, dtype=bool))
sns.heatmap(corr, mask=mask, annot=True, fmt=".2f", cmap='coolwarm')
plt.title('Feature Correlation Heatmap')
plt.show()

# Target label distribution
print(data_frame['label'].value_counts())  # 1->Benign, 0->Malignant

# PCA projection
X = data_frame.drop(columns='label', axis=1)
Y = data_frame['label']

pca = PCA(n_components=2)
X_pca = pca.fit_transform(X)
plt.figure(figsize=(8, 6))
sns.scatterplot(x=X_pca[:, 0], y=X_pca[:, 1], hue=Y, palette="Set2")
plt.title("PCA Projection")
plt.xlabel("PC1")
plt.ylabel("PC2")
plt.show()

# ================================
# 4. Splitting the Data
# ================================
X_train, X_test, Y_train, Y_test = train_test_split(X, Y, test_size=0.2, random_state=2)
print(X.shape, X_train.shape, X_test.shape)

# ================================
# 5. Model Training (Logistic Regression)
# ================================
model = LogisticRegression(max_iter=10000)
model.fit(X_train, Y_train)

# Accuracy on training data
X_train_prediction = model.predict(X_train)
training_data_accuracy = accuracy_score(Y_train, X_train_prediction)
print('Accuracy on training data = ', training_data_accuracy)

# Accuracy on test data
X_test_prediction = model.predict(X_test)
test_data_accuracy = accuracy_score(Y_test, X_test_prediction)
print('Accuracy on test data = ', test_data_accuracy)

# ================================
# 6. Model Evaluation
# ================================
# ROC Curve
y_probs = model.predict_proba(X_test)[:, 1]
fpr, tpr, _ = roc_curve(Y_test, y_probs)
roc_auc = auc(fpr, tpr)

plt.figure(figsize=(6, 5))
plt.plot(fpr, tpr, label='ROC curve (area = %0.2f)' % roc_auc)
plt.plot([0, 1], [0, 1], 'k--')
plt.title('Receiver Operating Characteristic')
plt.xlabel('False Positive Rate')
plt.ylabel('True Positive Rate')
plt.legend(loc="lower right")
plt.grid()
plt.show()

# Confusion Matrix
cm = confusion_matrix(Y_test, model.predict(X_test))
disp = ConfusionMatrixDisplay(confusion_matrix=cm, display_labels=model.classes_)
disp.plot()
plt.title("Confusion Matrix")
plt.show()

# ================================
# 7. Prediction Example
# ================================
input_data = (17.2, 15.8, 110.0, 910.2, 0.1023, 0.1304, 0.1505, 0.0894, 0.1901, 0.0623,
              0.4201, 1.250, 3.150, 30.21, 0.00955, 0.0201, 0.0359, 0.01501, 0.0212, 0.0032,
              18.8, 21.5, 120.7, 1100.0, 0.155, 0.2301, 0.3205, 0.175, 0.3152, 0.0895)

input_data_as_numpy_array = np.asarray(input_data)
input_data_reshaped = input_data_as_numpy_array.reshape(1, -1)

prediction = model.predict(input_data_reshaped)
if prediction[0] == 0:
    print('The Breast cancer is Malignant')
else:
    print('The Breast Cancer is Benign')

# ================================
# 8. Explainability with SHAP
# ================================
try:
    import shap
except ImportError:
    !pip install shap
    import shap

explainer = shap.Explainer(model, X_test)
shap_values = explainer(X_test)

# SHAP Summary Plot
shap.summary_plot(shap_values, X_test)
